{
 "cells": [
  {
   "cell_type": "code",
   "execution_count": 5,
   "metadata": {},
   "outputs": [
    {
     "name": "stderr",
     "output_type": "stream",
     "text": [
      "c:\\Users\\WBrol\\Anaconda3\\lib\\site-packages\\pandas\\core\\arrays\\masked.py:60: UserWarning: Pandas requires version '1.3.6' or newer of 'bottleneck' (version '1.3.5' currently installed).\n",
      "  from pandas.core import (\n",
      "C:\\Users\\WBrol\\AppData\\Local\\Temp\\ipykernel_12876\\462063578.py:1: DeprecationWarning: \n",
      "Pyarrow will become a required dependency of pandas in the next major release of pandas (pandas 3.0),\n",
      "(to allow more performant data types, such as the Arrow string type, and better interoperability with other libraries)\n",
      "but was not found to be installed on your system.\n",
      "If this would cause problems for you,\n",
      "please provide us feedback at https://github.com/pandas-dev/pandas/issues/54466\n",
      "        \n",
      "  import pandas as pd\n"
     ]
    }
   ],
   "source": [
    "import pandas as pd \n",
    "from sklearn.linear_model import LinearRegression\n",
    "from sklearn.metrics import r2_score"
   ]
  },
  {
   "cell_type": "code",
   "execution_count": 21,
   "metadata": {},
   "outputs": [
    {
     "name": "stdout",
     "output_type": "stream",
     "text": [
      "0.92249340456157\n"
     ]
    }
   ],
   "source": [
    "data = {\n",
    "    'Year': [2016, 2017, 2018, 2019, 2020],\n",
    "    'Count of bookings': [3, 280, 1515, 3406, 5907]\n",
    "}\n",
    "\n",
    "# Create DataFrame\n",
    "df = pd.DataFrame(data)\n",
    "\n",
    "# Reshape the feature (Year) to a 2D array\n",
    "X = df['Year'].values.reshape(-1, 1)\n",
    "\n",
    "# Linear Regression model\n",
    "model = LinearRegression()\n",
    "\n",
    "# Fit model \n",
    "model.fit(X, df['Count of bookings'])\n",
    "\n",
    "r2 = model.score(X, df['Count of bookings'])\n",
    "print(r2)"
   ]
  },
  {
   "cell_type": "code",
   "execution_count": 22,
   "metadata": {},
   "outputs": [
    {
     "name": "stdout",
     "output_type": "stream",
     "text": [
      "     Year  Count of bookings\n",
      "0  2016.0                3.0\n",
      "1  2017.0              280.0\n",
      "2  2018.0             1515.0\n",
      "3  2019.0             3406.0\n",
      "4  2020.0             5907.0\n",
      "5  2021.0             6702.4\n"
     ]
    }
   ],
   "source": [
    "# Predict the value for 2021\n",
    "prediction_2021 = model.predict([[2021]])\n",
    "\n",
    "# Add the prediction for 2021 to the DataFrame\n",
    "df.loc[len(df)] = [2021, prediction_2021[0]]\n",
    "\n",
    "print(df)"
   ]
  }
 ],
 "metadata": {
  "kernelspec": {
   "display_name": "base",
   "language": "python",
   "name": "python3"
  },
  "language_info": {
   "codemirror_mode": {
    "name": "ipython",
    "version": 3
   },
   "file_extension": ".py",
   "mimetype": "text/x-python",
   "name": "python",
   "nbconvert_exporter": "python",
   "pygments_lexer": "ipython3",
   "version": "3.9.18"
  }
 },
 "nbformat": 4,
 "nbformat_minor": 2
}
